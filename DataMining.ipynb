{
 "cells": [
  {
   "cell_type": "code",
   "execution_count": 2,
   "metadata": {},
   "outputs": [
    {
     "data": {
      "text/plain": [
       "147849"
      ]
     },
     "execution_count": 2,
     "metadata": {},
     "output_type": "execute_result"
    }
   ],
   "source": [
    "from pathlib import Path\n",
    "import requests\n",
    "filename = Path('metadata2.pdf')\n",
    "url = 'https://www.ttb.gov/images/pdfs/statistics/2013/201312beer.pdf'\n",
    "response = requests.get(url)\n",
    "filename.write_bytes(response.content)\n",
    "\n",
    "from pathlib import Path\n",
    "import requests\n",
    "filename = Path('metadata3.pdf')\n",
    "url = 'https://www.ttb.gov/images/pdfs/statistics/2013/201312beer.pdf'\n",
    "response = requests.get(url)\n",
    "filename.write_bytes(response.content)"
   ]
  },
  {
   "cell_type": "code",
   "execution_count": null,
   "metadata": {},
   "outputs": [],
   "source": []
  }
 ],
 "metadata": {
  "kernelspec": {
   "display_name": "Python 3",
   "language": "python",
   "name": "python3"
  },
  "language_info": {
   "codemirror_mode": {
    "name": "ipython",
    "version": 3
   },
   "file_extension": ".py",
   "mimetype": "text/x-python",
   "name": "python",
   "nbconvert_exporter": "python",
   "pygments_lexer": "ipython3",
   "version": "3.8.3"
  }
 },
 "nbformat": 4,
 "nbformat_minor": 4
}
