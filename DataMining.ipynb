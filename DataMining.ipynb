{
 "cells": [
  {
   "cell_type": "code",
   "execution_count": 3,
   "metadata": {},
   "outputs": [
    {
     "name": "stdout",
     "output_type": "stream",
     "text": [
      "files saved locally\n"
     ]
    }
   ],
   "source": [
    "import FileAcquire\n",
    "sites = [\"https://www.ttb.gov/images/pdfs/statistics/production_size/2019_brew_prod_size_ttb_gov.pdf\",\n",
    "\"https://www.ttb.gov/images/pdfs/statistics/production_size/2018_brew_prod_size_ttb_gov.pdf\"]\n",
    "filenames = [\"NumBrewers2019.pdf\",\"NumBrewers2018.pdf\"]\n",
    "FileAcquire.save_pdfs_locally(sites, filenames)"
   ]
  },
  {
   "cell_type": "code",
   "execution_count": null,
   "metadata": {},
   "outputs": [],
   "source": []
  }
 ],
 "metadata": {
  "kernelspec": {
   "display_name": "Python 3",
   "language": "python",
   "name": "python3"
  },
  "language_info": {
   "codemirror_mode": {
    "name": "ipython",
    "version": 3
   },
   "file_extension": ".py",
   "mimetype": "text/x-python",
   "name": "python",
   "nbconvert_exporter": "python",
   "pygments_lexer": "ipython3",
   "version": "3.8.3"
  }
 },
 "nbformat": 4,
 "nbformat_minor": 4
}
